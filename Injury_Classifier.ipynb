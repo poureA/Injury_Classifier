{
 "cells": [
  {
   "cell_type": "code",
   "execution_count": 992,
   "id": "1c14b223",
   "metadata": {},
   "outputs": [],
   "source": [
    "from pandas import read_csv\n",
    "from matplotlib.pyplot import pie , show ,legend , title\n",
    "from sklearn.preprocessing import StandardScaler , LabelEncoder\n",
    "from sklearn.model_selection import train_test_split\n",
    "from sklearn.ensemble import RandomForestClassifier\n",
    "from sklearn.metrics import ConfusionMatrixDisplay ,confusion_matrix \n",
    "scaler = StandardScaler()\n",
    "encoder = LabelEncoder()"
   ]
  },
  {
   "cell_type": "code",
   "execution_count": 993,
   "id": "f2b95f09",
   "metadata": {
    "scrolled": true
   },
   "outputs": [
    {
     "data": {
      "text/html": [
       "<div>\n",
       "<style scoped>\n",
       "    .dataframe tbody tr th:only-of-type {\n",
       "        vertical-align: middle;\n",
       "    }\n",
       "\n",
       "    .dataframe tbody tr th {\n",
       "        vertical-align: top;\n",
       "    }\n",
       "\n",
       "    .dataframe thead th {\n",
       "        text-align: right;\n",
       "    }\n",
       "</style>\n",
       "<table border=\"1\" class=\"dataframe\">\n",
       "  <thead>\n",
       "    <tr style=\"text-align: right;\">\n",
       "      <th></th>\n",
       "      <th>A_id</th>\n",
       "      <th>Size</th>\n",
       "      <th>Weight</th>\n",
       "      <th>Sweetness</th>\n",
       "      <th>Crunchiness</th>\n",
       "      <th>Juiciness</th>\n",
       "      <th>Ripeness</th>\n",
       "      <th>Acidity</th>\n",
       "      <th>Quality</th>\n",
       "    </tr>\n",
       "  </thead>\n",
       "  <tbody>\n",
       "    <tr>\n",
       "      <th>2699</th>\n",
       "      <td>2699.0</td>\n",
       "      <td>-3.781481</td>\n",
       "      <td>-1.136858</td>\n",
       "      <td>4.467151</td>\n",
       "      <td>-0.091726</td>\n",
       "      <td>0.809747</td>\n",
       "      <td>0.005770</td>\n",
       "      <td>-1.410296641</td>\n",
       "      <td>good</td>\n",
       "    </tr>\n",
       "    <tr>\n",
       "      <th>764</th>\n",
       "      <td>764.0</td>\n",
       "      <td>-2.814610</td>\n",
       "      <td>-0.944456</td>\n",
       "      <td>0.319110</td>\n",
       "      <td>0.683216</td>\n",
       "      <td>2.219503</td>\n",
       "      <td>1.042943</td>\n",
       "      <td>-1.15563525</td>\n",
       "      <td>good</td>\n",
       "    </tr>\n",
       "    <tr>\n",
       "      <th>1971</th>\n",
       "      <td>1971.0</td>\n",
       "      <td>-2.377711</td>\n",
       "      <td>0.231443</td>\n",
       "      <td>-1.389540</td>\n",
       "      <td>-0.690197</td>\n",
       "      <td>0.903694</td>\n",
       "      <td>2.408731</td>\n",
       "      <td>-0.82719456</td>\n",
       "      <td>bad</td>\n",
       "    </tr>\n",
       "    <tr>\n",
       "      <th>1808</th>\n",
       "      <td>1808.0</td>\n",
       "      <td>-3.228958</td>\n",
       "      <td>0.813327</td>\n",
       "      <td>0.611731</td>\n",
       "      <td>0.056863</td>\n",
       "      <td>2.024405</td>\n",
       "      <td>-0.947052</td>\n",
       "      <td>-3.556199706</td>\n",
       "      <td>good</td>\n",
       "    </tr>\n",
       "    <tr>\n",
       "      <th>2913</th>\n",
       "      <td>2913.0</td>\n",
       "      <td>1.232188</td>\n",
       "      <td>-1.714367</td>\n",
       "      <td>-1.050560</td>\n",
       "      <td>2.263293</td>\n",
       "      <td>2.149320</td>\n",
       "      <td>-1.609701</td>\n",
       "      <td>1.68390841</td>\n",
       "      <td>good</td>\n",
       "    </tr>\n",
       "    <tr>\n",
       "      <th>1123</th>\n",
       "      <td>1123.0</td>\n",
       "      <td>-1.975302</td>\n",
       "      <td>0.148919</td>\n",
       "      <td>-2.065254</td>\n",
       "      <td>0.971762</td>\n",
       "      <td>1.009978</td>\n",
       "      <td>-1.996484</td>\n",
       "      <td>-1.310787649</td>\n",
       "      <td>good</td>\n",
       "    </tr>\n",
       "    <tr>\n",
       "      <th>1756</th>\n",
       "      <td>1756.0</td>\n",
       "      <td>-2.160043</td>\n",
       "      <td>-0.505210</td>\n",
       "      <td>-1.273401</td>\n",
       "      <td>2.283968</td>\n",
       "      <td>0.429886</td>\n",
       "      <td>1.646340</td>\n",
       "      <td>1.663726188</td>\n",
       "      <td>bad</td>\n",
       "    </tr>\n",
       "    <tr>\n",
       "      <th>3161</th>\n",
       "      <td>3161.0</td>\n",
       "      <td>-1.994719</td>\n",
       "      <td>0.459086</td>\n",
       "      <td>-1.078758</td>\n",
       "      <td>0.677493</td>\n",
       "      <td>0.283108</td>\n",
       "      <td>0.336913</td>\n",
       "      <td>-0.813438826</td>\n",
       "      <td>bad</td>\n",
       "    </tr>\n",
       "    <tr>\n",
       "      <th>2186</th>\n",
       "      <td>2186.0</td>\n",
       "      <td>-3.082671</td>\n",
       "      <td>-1.780317</td>\n",
       "      <td>0.474989</td>\n",
       "      <td>2.032589</td>\n",
       "      <td>1.006848</td>\n",
       "      <td>1.328555</td>\n",
       "      <td>4.034392859</td>\n",
       "      <td>bad</td>\n",
       "    </tr>\n",
       "    <tr>\n",
       "      <th>1418</th>\n",
       "      <td>1418.0</td>\n",
       "      <td>-0.584733</td>\n",
       "      <td>-1.159163</td>\n",
       "      <td>0.811467</td>\n",
       "      <td>2.244678</td>\n",
       "      <td>0.509463</td>\n",
       "      <td>2.273860</td>\n",
       "      <td>3.091904815</td>\n",
       "      <td>good</td>\n",
       "    </tr>\n",
       "  </tbody>\n",
       "</table>\n",
       "</div>"
      ],
      "text/plain": [
       "        A_id      Size    Weight  ...  Ripeness       Acidity  Quality\n",
       "2699  2699.0 -3.781481 -1.136858  ...  0.005770  -1.410296641     good\n",
       "764    764.0 -2.814610 -0.944456  ...  1.042943   -1.15563525     good\n",
       "1971  1971.0 -2.377711  0.231443  ...  2.408731   -0.82719456      bad\n",
       "1808  1808.0 -3.228958  0.813327  ... -0.947052  -3.556199706     good\n",
       "2913  2913.0  1.232188 -1.714367  ... -1.609701    1.68390841     good\n",
       "1123  1123.0 -1.975302  0.148919  ... -1.996484  -1.310787649     good\n",
       "1756  1756.0 -2.160043 -0.505210  ...  1.646340   1.663726188      bad\n",
       "3161  3161.0 -1.994719  0.459086  ...  0.336913  -0.813438826      bad\n",
       "2186  2186.0 -3.082671 -1.780317  ...  1.328555   4.034392859      bad\n",
       "1418  1418.0 -0.584733 -1.159163  ...  2.273860   3.091904815     good\n",
       "\n",
       "[10 rows x 9 columns]"
      ]
     },
     "execution_count": 993,
     "metadata": {},
     "output_type": "execute_result"
    }
   ],
   "source": [
    "file = read_csv(\"D:\\\\datasets\\\\apple_quality\\\\apple_quality.csv\")\n",
    "df = file.copy()\n",
    "df.sample(10)"
   ]
  },
  {
   "cell_type": "code",
   "execution_count": 994,
   "id": "4d7373c6",
   "metadata": {},
   "outputs": [
    {
     "name": "stdout",
     "output_type": "stream",
     "text": [
      "<class 'pandas.core.frame.DataFrame'>\n",
      "RangeIndex: 4001 entries, 0 to 4000\n",
      "Data columns (total 9 columns):\n",
      " #   Column       Non-Null Count  Dtype  \n",
      "---  ------       --------------  -----  \n",
      " 0   A_id         4000 non-null   float64\n",
      " 1   Size         4000 non-null   float64\n",
      " 2   Weight       4000 non-null   float64\n",
      " 3   Sweetness    4000 non-null   float64\n",
      " 4   Crunchiness  4000 non-null   float64\n",
      " 5   Juiciness    4000 non-null   float64\n",
      " 6   Ripeness     4000 non-null   float64\n",
      " 7   Acidity      4001 non-null   object \n",
      " 8   Quality      4000 non-null   object \n",
      "dtypes: float64(7), object(2)\n",
      "memory usage: 281.4+ KB\n"
     ]
    }
   ],
   "source": [
    "df.info()"
   ]
  },
  {
   "cell_type": "code",
   "execution_count": 995,
   "id": "74c5bd62",
   "metadata": {},
   "outputs": [
    {
     "data": {
      "text/plain": [
       "A_id           1\n",
       "Size           1\n",
       "Weight         1\n",
       "Sweetness      1\n",
       "Crunchiness    1\n",
       "Juiciness      1\n",
       "Ripeness       1\n",
       "Acidity        0\n",
       "Quality        1\n",
       "dtype: int64"
      ]
     },
     "execution_count": 995,
     "metadata": {},
     "output_type": "execute_result"
    }
   ],
   "source": [
    "df.isnull().sum()"
   ]
  },
  {
   "cell_type": "code",
   "execution_count": 996,
   "id": "2a1b7a0d",
   "metadata": {},
   "outputs": [
    {
     "data": {
      "text/plain": [
       "A_id           0\n",
       "Size           0\n",
       "Weight         0\n",
       "Sweetness      0\n",
       "Crunchiness    0\n",
       "Juiciness      0\n",
       "Ripeness       0\n",
       "Acidity        0\n",
       "Quality        0\n",
       "dtype: int64"
      ]
     },
     "execution_count": 996,
     "metadata": {},
     "output_type": "execute_result"
    }
   ],
   "source": [
    "df = df.dropna()\n",
    "df.isnull().sum()"
   ]
  },
  {
   "cell_type": "code",
   "execution_count": 997,
   "id": "4eafea87",
   "metadata": {},
   "outputs": [
    {
     "data": {
      "image/png": "[encoded data removed]",
      "text/plain": [
       "<Figure size 640x480 with 1 Axes>"
      ]
     },
     "metadata": {},
     "output_type": "display_data"
    }
   ],
   "source": [
    "good = []\n",
    "pie([df.Quality.to_list().count('good'),df.Quality.to_list().count('bad')],autopct='%1.2f%%')\n",
    "legend(['Good quality','Bad quality'])\n",
    "title('Distribution of labels in Data Frame')\n",
    "show()"
   ]
  },
  {
   "cell_type": "code",
   "execution_count": 998,
   "id": "aa215c89",
   "metadata": {},
   "outputs": [],
   "source": [
    "lbl = df.Quality\n",
    "encoded_lbl = encoder.fit_transform(lbl)\n",
    "df = df.drop(['Quality','A_id'],axis=1)"
   ]
  },
  {
   "cell_type": "code",
   "execution_count": 999,
   "id": "617fb58a",
   "metadata": {},
   "outputs": [],
   "source": [
    "scaled_df = scaler.fit_transform(df)"
   ]
  },
  {
   "cell_type": "code",
   "execution_count": 1000,
   "id": "176688f1",
   "metadata": {},
   "outputs": [],
   "source": [
    "xtr , xts , ytr , yts = train_test_split(scaled_df,encoded_lbl,test_size=0.1,random_state=42)"
   ]
  },
  {
   "cell_type": "code",
   "execution_count": 1001,
   "id": "00465c35",
   "metadata": {},
   "outputs": [
    {
     "data": {
      "image/png": "[encoded data removed]",
      "text/plain": [
       "<Figure size 640x480 with 1 Axes>"
      ]
     },
     "metadata": {},
     "output_type": "display_data"
    }
   ],
   "source": [
    "pie([ytr.tolist().count(1),ytr.tolist().count(0)],autopct='%1.2f%%')\n",
    "legend(['Good quality','Bad quality'])\n",
    "title('Distribution of labels in Train set')\n",
    "show()"
   ]
  },
  {
   "cell_type": "code",
   "execution_count": 1002,
   "id": "13b0b71f",
   "metadata": {},
   "outputs": [
    {
     "data": {
      "image/png": "[encoded data removed]",
      "text/plain": [
       "<Figure size 640x480 with 1 Axes>"
      ]
     },
     "metadata": {},
     "output_type": "display_data"
    }
   ],
   "source": [
    "pie([yts.tolist().count(1),yts.tolist().count(0)],autopct='%1.2f%%')\n",
    "legend(['Good quality','Bad quality'])\n",
    "title('Distribution of labels in Test set')\n",
    "show()"
   ]
  },
  {
   "cell_type": "code",
   "execution_count": 1003,
   "id": "6a7b2fa7",
   "metadata": {},
   "outputs": [
    {
     "name": "stdout",
     "output_type": "stream",
     "text": [
      "Train set size: 3600\n",
      "Test set size: 400\n"
     ]
    }
   ],
   "source": [
    "print(f'Train set size: {len(xtr)}\\nTest set size: {len(xts)}')"
   ]
  },
  {
   "cell_type": "code",
   "execution_count": 1004,
   "id": "9741982f",
   "metadata": {},
   "outputs": [
    {
     "name": "stdout",
     "output_type": "stream",
     "text": [
      "Accuracy on train set:\n"
     ]
    },
    {
     "data": {
      "text/plain": [
       "100.0"
      ]
     },
     "execution_count": 1004,
     "metadata": {},
     "output_type": "execute_result"
    }
   ],
   "source": [
    "model = RandomForestClassifier()\n",
    "model.fit(xtr,ytr)\n",
    "print('Accuracy on train set:')\n",
    "model.score(xtr,ytr)*100"
   ]
  },
  {
   "cell_type": "code",
   "execution_count": 1005,
   "id": "24035748",
   "metadata": {},
   "outputs": [
    {
     "name": "stdout",
     "output_type": "stream",
     "text": [
      "Accuracy on test set:\n"
     ]
    },
    {
     "data": {
      "text/plain": [
       "90.75"
      ]
     },
     "execution_count": 1005,
     "metadata": {},
     "output_type": "execute_result"
    }
   ],
   "source": [
    "print('Accuracy on test set:')\n",
    "model.score(xts,yts)*100"
   ]
  },
  {
   "cell_type": "code",
   "execution_count": 1006,
   "id": "7edaeb94",
   "metadata": {},
   "outputs": [
    {
     "data": {
      "image/png": "[encoded data removed]",
      "text/plain": [
       "<Figure size 640x480 with 2 Axes>"
      ]
     },
     "metadata": {},
     "output_type": "display_data"
    }
   ],
   "source": [
    "pred = model.predict(xts)\n",
    "con_mtrx = confusion_matrix(yts,pred)\n",
    "display = ConfusionMatrixDisplay(con_mtrx)\n",
    "display.plot()\n",
    "show()"
   ]
  },
  {
   "cell_type": "code",
   "execution_count": 1007,
   "id": "482c3019",
   "metadata": {},
   "outputs": [
    {
     "name": "stdout",
     "output_type": "stream",
     "text": [
      "Accuracy on total data:\n"
     ]
    },
    {
     "data": {
      "text/plain": [
       "100.0"
      ]
     },
     "execution_count": 1007,
     "metadata": {},
     "output_type": "execute_result"
    }
   ],
   "source": [
    "print('Accuracy on total data:')\n",
    "model.fit(scaled_df,encoded_lbl)\n",
    "model.score(scaled_df,encoded_lbl)*100"
   ]
  },
  {
   "cell_type": "code",
   "execution_count": null,
   "id": "8087779a",
   "metadata": {},
   "outputs": [],
   "source": []
  }
 ],
 "metadata": {
  "kernelspec": {
   "display_name": "Python 3 (ipykernel)",
   "language": "python",
   "name": "python3"
  },
  "language_info": {
   "codemirror_mode": {
    "name": "ipython",
    "version": 3
   },
   "file_extension": ".py",
   "mimetype": "text/x-python",
   "name": "python",
   "nbconvert_exporter": "python",
   "pygments_lexer": "ipython3",
   "version": "3.11.5"
  }
 },
 "nbformat": 4,
 "nbformat_minor": 5
}
